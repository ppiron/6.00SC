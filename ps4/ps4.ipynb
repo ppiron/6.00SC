{
 "metadata": {
  "name": "",
  "signature": "sha256:642978ed0aa78a810412e5c3088cec7f86b07f35c9a7eb24b3d2feab1870354c"
 },
 "nbformat": 3,
 "nbformat_minor": 0,
 "worksheets": [
  {
   "cells": [
    {
     "cell_type": "code",
     "collapsed": false,
     "input": [
      "import string"
     ],
     "language": "python",
     "metadata": {},
     "outputs": [],
     "prompt_number": 67
    },
    {
     "cell_type": "code",
     "collapsed": false,
     "input": [
      "def build_coder(shift):\n",
      "    \n",
      "    lcLetters = ' ' + string.ascii_lowercase\n",
      "    ucLetters = ' ' + string.ascii_uppercase\n",
      "    shiftedLetter = {}\n",
      "\n",
      "    for i in range(len(lcLetters)):\n",
      "        if shift >=0:\n",
      "           shiftedLetter[ucLetters[i]] = ucLetters[(i + shift)%(len(ucLetters))] \n",
      "           shiftedLetter[lcLetters[i]] = lcLetters[(i + shift)%(len(lcLetters))]\n",
      "        else:\n",
      "           shiftedLetter[ucLetters[i]] = ucLetters[(i + shift + len(ucLetters))%(len(ucLetters))] \n",
      "           shiftedLetter[lcLetters[i]] = lcLetters[(i + shift + len(lcLetters))%(len(lcLetters))] \n",
      "    return shiftedLetter        "
     ],
     "language": "python",
     "metadata": {},
     "outputs": [],
     "prompt_number": 68
    },
    {
     "cell_type": "code",
     "collapsed": true,
     "input": [
      "build_coder(-3)"
     ],
     "language": "python",
     "metadata": {},
     "outputs": [
      {
       "metadata": {},
       "output_type": "pyout",
       "prompt_number": 69,
       "text": [
        "{' ': 'x',\n",
        " 'A': 'Y',\n",
        " 'B': 'Z',\n",
        " 'C': ' ',\n",
        " 'D': 'A',\n",
        " 'E': 'B',\n",
        " 'F': 'C',\n",
        " 'G': 'D',\n",
        " 'H': 'E',\n",
        " 'I': 'F',\n",
        " 'J': 'G',\n",
        " 'K': 'H',\n",
        " 'L': 'I',\n",
        " 'M': 'J',\n",
        " 'N': 'K',\n",
        " 'O': 'L',\n",
        " 'P': 'M',\n",
        " 'Q': 'N',\n",
        " 'R': 'O',\n",
        " 'S': 'P',\n",
        " 'T': 'Q',\n",
        " 'U': 'R',\n",
        " 'V': 'S',\n",
        " 'W': 'T',\n",
        " 'X': 'U',\n",
        " 'Y': 'V',\n",
        " 'Z': 'W',\n",
        " 'a': 'y',\n",
        " 'b': 'z',\n",
        " 'c': ' ',\n",
        " 'd': 'a',\n",
        " 'e': 'b',\n",
        " 'f': 'c',\n",
        " 'g': 'd',\n",
        " 'h': 'e',\n",
        " 'i': 'f',\n",
        " 'j': 'g',\n",
        " 'k': 'h',\n",
        " 'l': 'i',\n",
        " 'm': 'j',\n",
        " 'n': 'k',\n",
        " 'o': 'l',\n",
        " 'p': 'm',\n",
        " 'q': 'n',\n",
        " 'r': 'o',\n",
        " 's': 'p',\n",
        " 't': 'q',\n",
        " 'u': 'r',\n",
        " 'v': 's',\n",
        " 'w': 't',\n",
        " 'x': 'u',\n",
        " 'y': 'v',\n",
        " 'z': 'w'}"
       ]
      }
     ],
     "prompt_number": 69
    },
    {
     "cell_type": "code",
     "collapsed": false,
     "input": [
      "def build_encoder(shift):\n",
      "    \"\"\"\n",
      "    Returns a dict that can be used to encode a plain text. For example, you\n",
      "    could encrypt the plain text by calling the following commands\n",
      "    >>>encoder = build_encoder(shift)\n",
      "    >>>encrypted_text = apply_coder(plain_text, encoder)\n",
      "    \n",
      "    The cipher is defined by the shift value. Ignores non-letter characters\n",
      "    like punctuation and numbers.\n",
      "\n",
      "    shift: 0 <= int < 27\n",
      "    returns: dict\n",
      "\n",
      "    Example:\n",
      "    >>> build_encoder(3)\n",
      "    {' ': 'c', 'A': 'D', 'C': 'F', 'B': 'E', 'E': 'H', 'D': 'G', 'G': 'J',\n",
      "    'F': 'I', 'I': 'L', 'H': 'K', 'K': 'N', 'J': 'M', 'M': 'P', 'L': 'O',\n",
      "    'O': 'R', 'N': 'Q', 'Q': 'T', 'P': 'S', 'S': 'V', 'R': 'U', 'U': 'X',\n",
      "    'T': 'W', 'W': 'Z', 'V': 'Y', 'Y': 'A', 'X': ' ', 'Z': 'B', 'a': 'd',\n",
      "    'c': 'f', 'b': 'e', 'e': 'h', 'd': 'g', 'g': 'j', 'f': 'i', 'i': 'l',\n",
      "    'h': 'k', 'k': 'n', 'j': 'm', 'm': 'p', 'l': 'o', 'o': 'r', 'n': 'q',\n",
      "    'q': 't', 'p': 's', 's': 'v', 'r': 'u', 'u': 'x', 't': 'w', 'w': 'z',\n",
      "    'v': 'y', 'y': 'a', 'x': ' ', 'z': 'b'}\n",
      "    (The order of the key-value pairs may be different.)\n",
      "\n",
      "    HINT : Use build_coder.\n",
      "    \"\"\"\n",
      "    ### TODO.\n",
      "    \n",
      "    return build_coder(shift)"
     ],
     "language": "python",
     "metadata": {},
     "outputs": [],
     "prompt_number": 70
    },
    {
     "cell_type": "code",
     "collapsed": false,
     "input": [
      "def build_decoder(shift):\n",
      "    \"\"\"\n",
      "    Returns a dict that can be used to decode an encrypted text. For example, you\n",
      "    could decrypt an encrypted text by calling the following commands\n",
      "    >>>encoder = build_encoder(shift)\n",
      "    >>>encrypted_text = apply_coder(plain_text, encoder)\n",
      "    >>>decrypted_text = apply_coder(plain_text, decoder)\n",
      "    \n",
      "    The cipher is defined by the shift value. Ignores non-letter characters\n",
      "    like punctuation and numbers.\n",
      "\n",
      "    shift: 0 <= int < 27\n",
      "    returns: dict\n",
      "\n",
      "    Example:\n",
      "    >>> build_decoder(3)\n",
      "    {' ': 'x', 'A': 'Y', 'C': ' ', 'B': 'Z', 'E': 'B', 'D': 'A', 'G': 'D',\n",
      "    'F': 'C', 'I': 'F', 'H': 'E', 'K': 'H', 'J': 'G', 'M': 'J', 'L': 'I',\n",
      "    'O': 'L', 'N': 'K', 'Q': 'N', 'P': 'M', 'S': 'P', 'R': 'O', 'U': 'R',\n",
      "    'T': 'Q', 'W': 'T', 'V': 'S', 'Y': 'V', 'X': 'U', 'Z': 'W', 'a': 'y',\n",
      "    'c': ' ', 'b': 'z', 'e': 'b', 'd': 'a', 'g': 'd', 'f': 'c', 'i': 'f',\n",
      "    'h': 'e', 'k': 'h', 'j': 'g', 'm': 'j', 'l': 'i', 'o': 'l', 'n': 'k',\n",
      "    'q': 'n', 'p': 'm', 's': 'p', 'r': 'o', 'u': 'r', 't': 'q', 'w': 't',\n",
      "    'v': 's', 'y': 'v', 'x': 'u', 'z': 'w'}\n",
      "    (The order of the key-value pairs may be different.)\n",
      "\n",
      "    HINT : Use build_coder.\n",
      "    \"\"\"\n",
      "    ### TODO.\n",
      "    return build_coder(-shift)"
     ],
     "language": "python",
     "metadata": {},
     "outputs": [],
     "prompt_number": 71
    },
    {
     "cell_type": "code",
     "collapsed": true,
     "input": [
      "def apply_coder(text, coder):\n",
      "    \"\"\"\n",
      "    Applies the coder to the text. Returns the encoded text.\n",
      "\n",
      "    text: string\n",
      "    coder: dict with mappings of characters to shifted characters\n",
      "    returns: text after mapping coder chars to original text\n",
      "\n",
      "    Example:\n",
      "    >>> apply_coder(\"Hello, world!\", build_encoder(3))\n",
      "    'Khoor,czruog!'\n",
      "    >>> apply_coder(\"Khoor,czruog!\", build_decoder(3))\n",
      "    'Hello, world!'\n",
      "    \"\"\"\n",
      "    ### TODO.\n",
      "    import string\n",
      "    allLetters = ' ' + string.ascii_letters    \n",
      "    ans = []\n",
      "    \n",
      "    for el in text:\n",
      "        if el in allLetters:\n",
      "            ans.append(coder[el])\n",
      "        else:\n",
      "            ans.append(el)\n",
      "    return ''.join(ans)        "
     ],
     "language": "python",
     "metadata": {},
     "outputs": [],
     "prompt_number": 72
    },
    {
     "cell_type": "code",
     "collapsed": false,
     "input": [
      "apply_coder(\"Hello, world!\", build_encoder(3))"
     ],
     "language": "python",
     "metadata": {},
     "outputs": [
      {
       "metadata": {},
       "output_type": "pyout",
       "prompt_number": 73,
       "text": [
        "'Khoor,czruog!'"
       ]
      }
     ],
     "prompt_number": 73
    },
    {
     "cell_type": "code",
     "collapsed": false,
     "input": [
      "def apply_shift(text, shift):\n",
      "    \"\"\"\n",
      "    Given a text, returns a new text Caesar shifted by the given shift\n",
      "    offset. The empty space counts as the 27th letter of the alphabet,\n",
      "    so spaces should be replaced by a lowercase letter as appropriate.\n",
      "    Otherwise, lower case letters should remain lower case, upper case\n",
      "    letters should remain upper case, and all other punctuation should\n",
      "    stay as it is.\n",
      "    \n",
      "    text: string to apply the shift to\n",
      "    shift: amount to shift the text\n",
      "    returns: text after being shifted by specified amount.\n",
      "\n",
      "    Example:\n",
      "    >>> apply_shift('This is a test.', 8)\n",
      "    'Apq hq hiham a.'\n",
      "    \"\"\"\n",
      "    ### TODO.\n",
      "    \n",
      "    if shift >= 0:\n",
      "        return apply_coder(text, build_encoder(shift))\n",
      "    else:\n",
      "        return apply_coder(text, build_decoder(-shift))"
     ],
     "language": "python",
     "metadata": {},
     "outputs": [],
     "prompt_number": 74
    },
    {
     "cell_type": "code",
     "collapsed": false,
     "input": [
      "apply_shift('Wklvclvcdcwhvw.', -3)"
     ],
     "language": "python",
     "metadata": {},
     "outputs": [
      {
       "metadata": {},
       "output_type": "pyout",
       "prompt_number": 75,
       "text": [
        "'This is a test.'"
       ]
      }
     ],
     "prompt_number": 75
    },
    {
     "cell_type": "code",
     "collapsed": false,
     "input": [
      "import string\n",
      "import random\n",
      "\n",
      "WORDLIST_FILENAME = \"words.txt\"\n",
      "\n",
      "# -----------------------------------\n",
      "# Helper code\n",
      "# (you don't need to understand this helper code)\n",
      "def load_words():\n",
      "    \"\"\"\n",
      "    Returns a list of valid words. Words are strings of lowercase letters.\n",
      "    \n",
      "    Depending on the size of the word list, this function may\n",
      "    take a while to finish.\n",
      "    \"\"\"\n",
      "    print \"Loading word list from file...\"\n",
      "    # inFile: file\n",
      "    inFile = open(WORDLIST_FILENAME, 'r', 0)\n",
      "    # line: string\n",
      "    line = inFile.readline()\n",
      "    # wordlist: list of strings\n",
      "    wordlist = line.split()\n",
      "    print \"  \", len(wordlist), \"words loaded.\"\n",
      "    return wordlist\n",
      "\n",
      "wordlist = load_words()"
     ],
     "language": "python",
     "metadata": {},
     "outputs": [
      {
       "output_type": "stream",
       "stream": "stdout",
       "text": [
        "Loading word list from file...\n",
        "  "
       ]
      },
      {
       "output_type": "stream",
       "stream": "stdout",
       "text": [
        " 55909 words loaded.\n"
       ]
      }
     ],
     "prompt_number": 76
    },
    {
     "cell_type": "code",
     "collapsed": false,
     "input": [
      "def is_word(wordlist, word):\n",
      "    \"\"\"\n",
      "    Determines if word is a valid word.\n",
      "\n",
      "    wordlist: list of words in the dictionary.\n",
      "    word: a possible word.\n",
      "    returns True if word is in wordlist.\n",
      "\n",
      "    Example:\n",
      "    >>> is_word(wordlist, 'bat') returns\n",
      "    True\n",
      "    >>> is_word(wordlist, 'asdf') returns\n",
      "    False\n",
      "    \"\"\"\n",
      "    word = word.lower()\n",
      "    word = word.strip(\" !@#$%^&*()-_+={}[]|\\:;'<>?,./\\\"\")\n",
      "    return word in wordlist"
     ],
     "language": "python",
     "metadata": {},
     "outputs": [],
     "prompt_number": 77
    },
    {
     "cell_type": "code",
     "collapsed": false,
     "input": [
      "def find_best_shift(wordlist, text):\n",
      "    \"\"\"\n",
      "    Decrypts the encoded text and returns the plaintext.\n",
      "\n",
      "    text: string\n",
      "    returns: 0 <= int 27\n",
      "\n",
      "    Example:\n",
      "    >>> s = apply_coder('Hello, world!', build_encoder(8))\n",
      "    >>> s\n",
      "    'Pmttw,hdwztl!'\n",
      "    >>> find_best_shift(wordlist, s) returns\n",
      "    8\n",
      "    >>> apply_coder(s, build_decoder(8)) returns\n",
      "    'Hello, world!'\n",
      "    \"\"\"\n",
      "    ### TODO\n",
      "    \n",
      "    s = 0\n",
      "    maxs = 0\n",
      "    maxcount = 0\n",
      "    while s < 27:\n",
      "        count = 0\n",
      "        #print s\n",
      "        a = apply_coder(text, build_decoder(s))\n",
      "        #print a\n",
      "        a = a.split()\n",
      "        for word in a:\n",
      "            #print word\n",
      "            if is_word(wordlist, word):\n",
      "                count = count + 1\n",
      "        #print count\n",
      "        if count > maxcount:\n",
      "            maxcount = count\n",
      "            maxs = s\n",
      "        s += 1    \n",
      "    return maxs    "
     ],
     "language": "python",
     "metadata": {},
     "outputs": [],
     "prompt_number": 78
    },
    {
     "cell_type": "code",
     "collapsed": false,
     "input": [
      "s = apply_coder('Today is a nice day', build_encoder(13))\n",
      "s"
     ],
     "language": "python",
     "metadata": {},
     "outputs": [
      {
       "metadata": {},
       "output_type": "pyout",
       "prompt_number": 79,
       "text": [
        "'Faqnkmvemnm vprmqnk'"
       ]
      }
     ],
     "prompt_number": 79
    },
    {
     "cell_type": "code",
     "collapsed": false,
     "input": [
      "find_best_shift(wordlist, s)"
     ],
     "language": "python",
     "metadata": {},
     "outputs": [
      {
       "metadata": {},
       "output_type": "pyout",
       "prompt_number": 80,
       "text": [
        "13"
       ]
      }
     ],
     "prompt_number": 80
    },
    {
     "cell_type": "code",
     "collapsed": false,
     "input": [
      "def apply_shifts(text, shifts):\n",
      "    \"\"\"\n",
      "    Applies a sequence of shifts to an input text.\n",
      "\n",
      "    text: A string to apply the Ceasar shifts to \n",
      "    shifts: A list of tuples containing the location each shift should\n",
      "    begin and the shift offset. Each tuple is of the form (location,\n",
      "    shift) The shifts are layered: each one is applied from its\n",
      "    starting position all the way through the end of the string.  \n",
      "    returns: text after applying the shifts to the appropriate\n",
      "    positions\n",
      "\n",
      "    Example:\n",
      "    >>> apply_shifts(\"Do Androids Dream of Electric Sheep?\", [(0,6), (3, 18), (12, 16)])\n",
      "    'JufYkaolfapxQdrnzmasmRyrpfdvpmEurrb?'\n",
      "    \"\"\"\n",
      "    ### TODO.\n",
      "  \n",
      "    \n",
      "    for i in range(len(shifts)):\n",
      "        a = apply_shift(text[shifts[i][0]:], shifts[i][1])\n",
      "        #print a\n",
      "        #print text[:shifts[i][0]]\n",
      "        text = text[:shifts[i][0]] + a\n",
      "                \n",
      "    return text\n",
      "    "
     ],
     "language": "python",
     "metadata": {},
     "outputs": [],
     "prompt_number": 81
    },
    {
     "cell_type": "code",
     "collapsed": false,
     "input": [
      "def random_word(wordlist):\n",
      "    \"\"\"\n",
      "    Returns a random word.\n",
      "\n",
      "    wordlist: list of words  \n",
      "    returns: a word from wordlist at random\n",
      "    \"\"\"\n",
      "    return random.choice(wordlist)\n",
      "\n",
      "def random_string(wordlist, n):\n",
      "    \"\"\"\n",
      "    Returns a string containing n random words from wordlist\n",
      "\n",
      "    wordlist: list of words\n",
      "    returns: a string of random words separated by spaces.\n",
      "    \"\"\"\n",
      "    return \" \".join([random_word(wordlist) for _ in range(n)])\n",
      "\n",
      "def random_scrambled(wordlist, n):\n",
      "    \"\"\"\n",
      "    Generates a test string by generating an n-word random string\n",
      "    and encrypting it with a sequence of random shifts.\n",
      "\n",
      "    wordlist: list of words\n",
      "    n: number of random words to generate and scamble\n",
      "    returns: a scrambled string of n random words\n",
      "\n",
      "\n",
      "    NOTE:\n",
      "    This function will ONLY work once you have completed your\n",
      "    implementation of apply_shifts!\n",
      "    \"\"\"\n",
      "    s = random_string(wordlist, n) + \" \"\n",
      "    shifts = [(i, random.randint(0, 26)) for i in range(len(s)) if s[i-1] == ' ']\n",
      "    return apply_shifts(s, shifts)[:-1]"
     ],
     "language": "python",
     "metadata": {},
     "outputs": [],
     "prompt_number": 82
    },
    {
     "cell_type": "code",
     "collapsed": false,
     "input": [
      "def find_best_shifts_rec(wordlist, text, start):\n",
      "    \"\"\"\n",
      "    Given a scrambled string and a starting position from which\n",
      "    to decode, returns a shift key that will decode the text to\n",
      "    words in wordlist, or None if there is no such key.\n",
      "\n",
      "    Hint: You will find this function much easier to implement\n",
      "    if you use recursion.\n",
      "\n",
      "    wordlist: list of words\n",
      "    text: scambled text to try to find the words for\n",
      "    start: where to start looking at shifts\n",
      "    returns: list of tuples.  each tuple is (position in text, amount of shift)\n",
      "    \"\"\"\n",
      "    ### TODO.\n",
      "    ans = []\n",
      "    #print text\n",
      "    if start == len(text):\n",
      "        return ans\n",
      "    s = 0\n",
      "    while s < 27:\n",
      "        count = 0\n",
      "        #print s\n",
      "        a = apply_coder(text[start:], build_coder(s))\n",
      "        #print a\n",
      "        if is_word(wordlist, a):\n",
      "            inc = len(a) - 1\n",
      "            count = count + 1\n",
      "            break\n",
      "        a = a.split()\n",
      "        if len(a) > 1:\n",
      "            if is_word(wordlist, a[0]):\n",
      "                inc = len(a[0])\n",
      "                count = count + 1\n",
      "                break\n",
      "        s = s + 1\n",
      "    \n",
      "    if count > 0:\n",
      "        #print (start, s)\n",
      "        text = text[:start] + apply_coder(text[start:], build_coder(s))\n",
      "        #print 'inc =', inc\n",
      "        #print 'text =', text\n",
      "        try:\n",
      "            return [(start, s)] + find_best_shifts_rec(wordlist, text, start + inc + 1)       \n",
      "        except:\n",
      "            return None\n",
      "    else:\n",
      "        return None\n",
      "\n"
     ],
     "language": "python",
     "metadata": {},
     "outputs": [],
     "prompt_number": 116
    },
    {
     "cell_type": "code",
     "collapsed": false,
     "input": [
      "text = random_scrambled(wordlist, 3)\n",
      "text"
     ],
     "language": "python",
     "metadata": {},
     "outputs": [
      {
       "metadata": {},
       "output_type": "pyout",
       "prompt_number": 126,
       "text": [
        "'qpfqpfxgagorcpgnbbogwfzy'"
       ]
      }
     ],
     "prompt_number": 126
    },
    {
     "cell_type": "code",
     "collapsed": false,
     "input": [
      "print find_best_shifts_rec(wordlist, text, 0)"
     ],
     "language": "python",
     "metadata": {},
     "outputs": [
      {
       "output_type": "stream",
       "stream": "stdout",
       "text": [
        "None\n"
       ]
      }
     ],
     "prompt_number": 127
    },
    {
     "cell_type": "code",
     "collapsed": false,
     "input": [
      "apply_shifts(text, [(0, 9), (9, 15), (13, 4)])"
     ],
     "language": "python",
     "metadata": {},
     "outputs": [
      {
       "metadata": {},
       "output_type": "pyout",
       "prompt_number": 86,
       "text": [
        "'bytaqctpzq puqmxl bzzqc'"
       ]
      }
     ],
     "prompt_number": 86
    },
    {
     "cell_type": "code",
     "collapsed": false,
     "input": [
      "start = 0\n",
      "#text = text[:start - 1] + text[start:]\n",
      "text[0:start]"
     ],
     "language": "python",
     "metadata": {},
     "outputs": [
      {
       "metadata": {},
       "output_type": "pyout",
       "prompt_number": 87,
       "text": [
        "''"
       ]
      }
     ],
     "prompt_number": 87
    },
    {
     "cell_type": "code",
     "collapsed": false,
     "input": [
      "wordlist[:100]"
     ],
     "language": "python",
     "metadata": {},
     "outputs": [
      {
       "metadata": {},
       "output_type": "pyout",
       "prompt_number": 88,
       "text": [
        "['a',\n",
        " 'i',\n",
        " 'ad',\n",
        " 'am',\n",
        " 'an',\n",
        " 'as',\n",
        " 'at',\n",
        " 'ax',\n",
        " 'be',\n",
        " 'by',\n",
        " 'do',\n",
        " 'em',\n",
        " 'en',\n",
        " 'ex',\n",
        " 'go',\n",
        " 'he',\n",
        " 'hi',\n",
        " 'ho',\n",
        " 'if',\n",
        " 'in',\n",
        " 'is',\n",
        " 'it',\n",
        " 'me',\n",
        " 'my',\n",
        " 'no',\n",
        " 'of',\n",
        " 'oh',\n",
        " 'on',\n",
        " 'or',\n",
        " 'ox',\n",
        " 'pi',\n",
        " 're',\n",
        " 'so',\n",
        " 'to',\n",
        " 'up',\n",
        " 'us',\n",
        " 'we',\n",
        " 'ye',\n",
        " 'ace',\n",
        " 'act',\n",
        " 'add',\n",
        " 'ado',\n",
        " 'ads',\n",
        " 'adz',\n",
        " 'aft',\n",
        " 'age',\n",
        " 'ago',\n",
        " 'aid',\n",
        " 'ail',\n",
        " 'aim',\n",
        " 'air',\n",
        " 'alb',\n",
        " 'ale',\n",
        " 'all',\n",
        " 'and',\n",
        " 'ant',\n",
        " 'any',\n",
        " 'ape',\n",
        " 'apt',\n",
        " 'arc',\n",
        " 'are',\n",
        " 'ark',\n",
        " 'arm',\n",
        " 'art',\n",
        " 'ash',\n",
        " 'ask',\n",
        " 'asp',\n",
        " 'ass',\n",
        " 'ate',\n",
        " 'ave',\n",
        " 'awe',\n",
        " 'awl',\n",
        " 'awn',\n",
        " 'aye',\n",
        " 'bad',\n",
        " 'bag',\n",
        " 'bah',\n",
        " 'ban',\n",
        " 'bar',\n",
        " 'bat',\n",
        " 'bay',\n",
        " 'bed',\n",
        " 'bee',\n",
        " 'beg',\n",
        " 'bel',\n",
        " 'bet',\n",
        " 'bib',\n",
        " 'bid',\n",
        " 'big',\n",
        " 'bin',\n",
        " 'bit',\n",
        " 'boa',\n",
        " 'bob',\n",
        " 'bog',\n",
        " 'boo',\n",
        " 'bop',\n",
        " 'bow',\n",
        " 'box',\n",
        " 'boy',\n",
        " 'bra']"
       ]
      }
     ],
     "prompt_number": 88
    },
    {
     "cell_type": "code",
     "collapsed": false,
     "input": [],
     "language": "python",
     "metadata": {},
     "outputs": [],
     "prompt_number": 88
    }
   ],
   "metadata": {}
  }
 ]
}