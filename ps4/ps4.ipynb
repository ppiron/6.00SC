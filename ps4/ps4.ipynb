{
 "metadata": {
  "name": "",
  "signature": "sha256:0feba2c14638b611e6b929330470793dcfaac4b50096b1007e7a9276a5992c0a"
 },
 "nbformat": 3,
 "nbformat_minor": 0,
 "worksheets": [
  {
   "cells": [
    {
     "cell_type": "code",
     "collapsed": false,
     "input": [
      "import pandas as pd\n",
      "import numpy as np"
     ],
     "language": "python",
     "metadata": {},
     "outputs": [],
     "prompt_number": 56
    },
    {
     "cell_type": "code",
     "collapsed": false,
     "input": [],
     "language": "python",
     "metadata": {},
     "outputs": []
    },
    {
     "cell_type": "code",
     "collapsed": false,
     "input": [
      "log_df = pd.read_csv(\"/home/datascience/Documents/wc_day6_1_sample.csv\",\n",
      "                     names=['ClientID', 'Date', 'Time', 'URL', 'ResponseCode', 'Size'],\n",
      "                     na_values=['-'])"
     ],
     "language": "python",
     "metadata": {},
     "outputs": [],
     "prompt_number": 37
    },
    {
     "cell_type": "code",
     "collapsed": true,
     "input": [
      "log_df.head(10)"
     ],
     "language": "python",
     "metadata": {},
     "outputs": [
      {
       "html": [
        "<div style=\"max-height:1000px;max-width:1500px;overflow:auto;\">\n",
        "<table border=\"1\" class=\"dataframe\">\n",
        "  <thead>\n",
        "    <tr style=\"text-align: right;\">\n",
        "      <th></th>\n",
        "      <th>ClientID</th>\n",
        "      <th>Date</th>\n",
        "      <th>Time</th>\n",
        "      <th>URL</th>\n",
        "      <th>ResponseCode</th>\n",
        "      <th>Size</th>\n",
        "      <th>DateTime</th>\n",
        "    </tr>\n",
        "  </thead>\n",
        "  <tbody>\n",
        "    <tr>\n",
        "      <th>0</th>\n",
        "      <td>  1044</td>\n",
        "      <td> 30/Apr/1998</td>\n",
        "      <td> 22:46:12</td>\n",
        "      <td>                     /images/11104.gif</td>\n",
        "      <td> 200</td>\n",
        "      <td>   508</td>\n",
        "      <td>1998-04-30 22:46:12</td>\n",
        "    </tr>\n",
        "    <tr>\n",
        "      <th>1</th>\n",
        "      <td> 10871</td>\n",
        "      <td> 01/May/1998</td>\n",
        "      <td> 12:10:53</td>\n",
        "      <td>                     /images/ligne.gif</td>\n",
        "      <td> 200</td>\n",
        "      <td>   169</td>\n",
        "      <td>1998-05-01 12:10:53</td>\n",
        "    </tr>\n",
        "    <tr>\n",
        "      <th>2</th>\n",
        "      <td> 11012</td>\n",
        "      <td> 01/May/1998</td>\n",
        "      <td> 12:17:30</td>\n",
        "      <td> /english/individuals/player111503.htm</td>\n",
        "      <td> 200</td>\n",
        "      <td>  7027</td>\n",
        "      <td>1998-05-01 12:17:30</td>\n",
        "    </tr>\n",
        "    <tr>\n",
        "      <th>3</th>\n",
        "      <td> 11435</td>\n",
        "      <td> 01/May/1998</td>\n",
        "      <td> 13:15:13</td>\n",
        "      <td>                  /french/frntpage.htm</td>\n",
        "      <td> 304</td>\n",
        "      <td>     0</td>\n",
        "      <td>1998-05-01 13:15:13</td>\n",
        "    </tr>\n",
        "    <tr>\n",
        "      <th>4</th>\n",
        "      <td> 12128</td>\n",
        "      <td> 01/May/1998</td>\n",
        "      <td> 13:30:21</td>\n",
        "      <td>   /english/images/nav_sitemap_off.gif</td>\n",
        "      <td> 304</td>\n",
        "      <td>   NaN</td>\n",
        "      <td>1998-05-01 13:30:21</td>\n",
        "    </tr>\n",
        "    <tr>\n",
        "      <th>5</th>\n",
        "      <td> 13649</td>\n",
        "      <td> 01/May/1998</td>\n",
        "      <td> 14:55:01</td>\n",
        "      <td>                /images/hm_anime_e.gif</td>\n",
        "      <td> 200</td>\n",
        "      <td> 15609</td>\n",
        "      <td>1998-05-01 14:55:01</td>\n",
        "    </tr>\n",
        "    <tr>\n",
        "      <th>6</th>\n",
        "      <td> 15006</td>\n",
        "      <td> 01/May/1998</td>\n",
        "      <td> 16:14:32</td>\n",
        "      <td> /english/images/comp_bu_group_off.gif</td>\n",
        "      <td> 200</td>\n",
        "      <td>  1557</td>\n",
        "      <td>1998-05-01 16:14:32</td>\n",
        "    </tr>\n",
        "    <tr>\n",
        "      <th>7</th>\n",
        "      <td> 16366</td>\n",
        "      <td> 01/May/1998</td>\n",
        "      <td> 17:14:13</td>\n",
        "      <td>                    /images/arw_lk.gif</td>\n",
        "      <td> 200</td>\n",
        "      <td>   669</td>\n",
        "      <td>1998-05-01 17:14:13</td>\n",
        "    </tr>\n",
        "    <tr>\n",
        "      <th>8</th>\n",
        "      <td> 16877</td>\n",
        "      <td> 01/May/1998</td>\n",
        "      <td> 17:46:37</td>\n",
        "      <td>                  /images/32p49807.jpg</td>\n",
        "      <td> 200</td>\n",
        "      <td> 13856</td>\n",
        "      <td>1998-05-01 17:46:37</td>\n",
        "    </tr>\n",
        "    <tr>\n",
        "      <th>9</th>\n",
        "      <td> 17165</td>\n",
        "      <td> 01/May/1998</td>\n",
        "      <td> 17:58:46</td>\n",
        "      <td>            /images/home_fr_button.gif</td>\n",
        "      <td> 200</td>\n",
        "      <td>  2140</td>\n",
        "      <td>1998-05-01 17:58:46</td>\n",
        "    </tr>\n",
        "  </tbody>\n",
        "</table>\n",
        "</div>"
       ],
       "metadata": {},
       "output_type": "pyout",
       "prompt_number": 40,
       "text": [
        "   ClientID         Date      Time                                    URL  \\\n",
        "0      1044  30/Apr/1998  22:46:12                      /images/11104.gif   \n",
        "1     10871  01/May/1998  12:10:53                      /images/ligne.gif   \n",
        "2     11012  01/May/1998  12:17:30  /english/individuals/player111503.htm   \n",
        "3     11435  01/May/1998  13:15:13                   /french/frntpage.htm   \n",
        "4     12128  01/May/1998  13:30:21    /english/images/nav_sitemap_off.gif   \n",
        "5     13649  01/May/1998  14:55:01                 /images/hm_anime_e.gif   \n",
        "6     15006  01/May/1998  16:14:32  /english/images/comp_bu_group_off.gif   \n",
        "7     16366  01/May/1998  17:14:13                     /images/arw_lk.gif   \n",
        "8     16877  01/May/1998  17:46:37                   /images/32p49807.jpg   \n",
        "9     17165  01/May/1998  17:58:46             /images/home_fr_button.gif   \n",
        "\n",
        "   ResponseCode   Size            DateTime  \n",
        "0           200    508 1998-04-30 22:46:12  \n",
        "1           200    169 1998-05-01 12:10:53  \n",
        "2           200   7027 1998-05-01 12:17:30  \n",
        "3           304      0 1998-05-01 13:15:13  \n",
        "4           304    NaN 1998-05-01 13:30:21  \n",
        "5           200  15609 1998-05-01 14:55:01  \n",
        "6           200   1557 1998-05-01 16:14:32  \n",
        "7           200    669 1998-05-01 17:14:13  \n",
        "8           200  13856 1998-05-01 17:46:37  \n",
        "9           200   2140 1998-05-01 17:58:46  "
       ]
      }
     ],
     "prompt_number": 40
    },
    {
     "cell_type": "code",
     "collapsed": false,
     "input": [
      "log_df['DateTime'] = pd.to_datetime(log_df['Date'] + \" \" + log_df['Time'])"
     ],
     "language": "python",
     "metadata": {},
     "outputs": [],
     "prompt_number": 38
    },
    {
     "cell_type": "code",
     "collapsed": false,
     "input": [
      "log_df['DateTime']"
     ],
     "language": "python",
     "metadata": {},
     "outputs": []
    },
    {
     "cell_type": "code",
     "collapsed": false,
     "input": [
      "start = log_df['DateTime'][0]\n",
      "end = log_df['DateTime'][20000]\n",
      "print start\n",
      "print end"
     ],
     "language": "python",
     "metadata": {},
     "outputs": [
      {
       "output_type": "stream",
       "stream": "stdout",
       "text": [
        "1998-04-30 22:46:12\n",
        "1998-05-01 19:50:29\n"
       ]
      }
     ],
     "prompt_number": 48
    },
    {
     "cell_type": "code",
     "collapsed": false,
     "input": [
      "intervals = pd.date_range(start, end, freq = '30min')"
     ],
     "language": "python",
     "metadata": {},
     "outputs": [],
     "prompt_number": 52
    },
    {
     "cell_type": "code",
     "collapsed": false,
     "input": [
      "resamp = log_df.set_index('DateTime').resample('30min').Size"
     ],
     "language": "python",
     "metadata": {},
     "outputs": [],
     "prompt_number": 63
    },
    {
     "cell_type": "code",
     "collapsed": true,
     "input": [
      "resamp.head(10)"
     ],
     "language": "python",
     "metadata": {},
     "outputs": [
      {
       "metadata": {},
       "output_type": "pyout",
       "prompt_number": 64,
       "text": [
        "DateTime\n",
        "1998-04-30 22:00:00    7456.641821\n",
        "1998-04-30 22:30:00    5490.357959\n",
        "1998-04-30 23:00:00    4671.662226\n",
        "1998-04-30 23:30:00    9168.799145\n",
        "1998-05-01 00:00:00    8468.555590\n",
        "1998-05-01 00:30:00    5480.239248\n",
        "1998-05-01 01:00:00    6708.459954\n",
        "1998-05-01 01:30:00    9422.786762\n",
        "1998-05-01 02:00:00    8128.864302\n",
        "1998-05-01 02:30:00    6694.515721\n",
        "Freq: 30T, Name: Size, dtype: float64"
       ]
      }
     ],
     "prompt_number": 64
    },
    {
     "cell_type": "code",
     "collapsed": false,
     "input": [
      "import string"
     ],
     "language": "python",
     "metadata": {},
     "outputs": [],
     "prompt_number": 4
    },
    {
     "cell_type": "code",
     "collapsed": false,
     "input": [
      "def build_coder(shift):\n",
      "    \n",
      "    lcLetters = ' ' + string.ascii_lowercase\n",
      "    ucLetters = ' ' + string.ascii_uppercase\n",
      "    shiftedLetter = {}\n",
      "\n",
      "    for i in range(len(lcLetters)):\n",
      "        if shift >=0:\n",
      "           shiftedLetter[ucLetters[i]] = ucLetters[(i + shift)%(len(ucLetters))] \n",
      "           shiftedLetter[lcLetters[i]] = lcLetters[(i + shift)%(len(lcLetters))]\n",
      "        else:\n",
      "           shiftedLetter[ucLetters[i]] = ucLetters[(i + shift + len(ucLetters))%(len(ucLetters))] \n",
      "           shiftedLetter[lcLetters[i]] = lcLetters[(i + shift + len(lcLetters))%(len(lcLetters))] \n",
      "    return shiftedLetter        "
     ],
     "language": "python",
     "metadata": {},
     "outputs": [],
     "prompt_number": 4
    },
    {
     "cell_type": "code",
     "collapsed": true,
     "input": [
      "build_coder(-3)"
     ],
     "language": "python",
     "metadata": {},
     "outputs": [
      {
       "metadata": {},
       "output_type": "pyout",
       "prompt_number": 22,
       "text": [
        "{' ': 'x',\n",
        " 'A': 'Y',\n",
        " 'B': 'Z',\n",
        " 'C': ' ',\n",
        " 'D': 'A',\n",
        " 'E': 'B',\n",
        " 'F': 'C',\n",
        " 'G': 'D',\n",
        " 'H': 'E',\n",
        " 'I': 'F',\n",
        " 'J': 'G',\n",
        " 'K': 'H',\n",
        " 'L': 'I',\n",
        " 'M': 'J',\n",
        " 'N': 'K',\n",
        " 'O': 'L',\n",
        " 'P': 'M',\n",
        " 'Q': 'N',\n",
        " 'R': 'O',\n",
        " 'S': 'P',\n",
        " 'T': 'Q',\n",
        " 'U': 'R',\n",
        " 'V': 'S',\n",
        " 'W': 'T',\n",
        " 'X': 'U',\n",
        " 'Y': 'V',\n",
        " 'Z': 'W',\n",
        " 'a': 'y',\n",
        " 'b': 'z',\n",
        " 'c': ' ',\n",
        " 'd': 'a',\n",
        " 'e': 'b',\n",
        " 'f': 'c',\n",
        " 'g': 'd',\n",
        " 'h': 'e',\n",
        " 'i': 'f',\n",
        " 'j': 'g',\n",
        " 'k': 'h',\n",
        " 'l': 'i',\n",
        " 'm': 'j',\n",
        " 'n': 'k',\n",
        " 'o': 'l',\n",
        " 'p': 'm',\n",
        " 'q': 'n',\n",
        " 'r': 'o',\n",
        " 's': 'p',\n",
        " 't': 'q',\n",
        " 'u': 'r',\n",
        " 'v': 's',\n",
        " 'w': 't',\n",
        " 'x': 'u',\n",
        " 'y': 'v',\n",
        " 'z': 'w'}"
       ]
      }
     ],
     "prompt_number": 22
    },
    {
     "cell_type": "code",
     "collapsed": false,
     "input": [
      "def build_encoder(shift):\n",
      "    \"\"\"\n",
      "    Returns a dict that can be used to encode a plain text. For example, you\n",
      "    could encrypt the plain text by calling the following commands\n",
      "    >>>encoder = build_encoder(shift)\n",
      "    >>>encrypted_text = apply_coder(plain_text, encoder)\n",
      "    \n",
      "    The cipher is defined by the shift value. Ignores non-letter characters\n",
      "    like punctuation and numbers.\n",
      "\n",
      "    shift: 0 <= int < 27\n",
      "    returns: dict\n",
      "\n",
      "    Example:\n",
      "    >>> build_encoder(3)\n",
      "    {' ': 'c', 'A': 'D', 'C': 'F', 'B': 'E', 'E': 'H', 'D': 'G', 'G': 'J',\n",
      "    'F': 'I', 'I': 'L', 'H': 'K', 'K': 'N', 'J': 'M', 'M': 'P', 'L': 'O',\n",
      "    'O': 'R', 'N': 'Q', 'Q': 'T', 'P': 'S', 'S': 'V', 'R': 'U', 'U': 'X',\n",
      "    'T': 'W', 'W': 'Z', 'V': 'Y', 'Y': 'A', 'X': ' ', 'Z': 'B', 'a': 'd',\n",
      "    'c': 'f', 'b': 'e', 'e': 'h', 'd': 'g', 'g': 'j', 'f': 'i', 'i': 'l',\n",
      "    'h': 'k', 'k': 'n', 'j': 'm', 'm': 'p', 'l': 'o', 'o': 'r', 'n': 'q',\n",
      "    'q': 't', 'p': 's', 's': 'v', 'r': 'u', 'u': 'x', 't': 'w', 'w': 'z',\n",
      "    'v': 'y', 'y': 'a', 'x': ' ', 'z': 'b'}\n",
      "    (The order of the key-value pairs may be different.)\n",
      "\n",
      "    HINT : Use build_coder.\n",
      "    \"\"\"\n",
      "    ### TODO.\n",
      "    \n",
      "    return build_coder(shift)"
     ],
     "language": "python",
     "metadata": {},
     "outputs": [],
     "prompt_number": 5
    },
    {
     "cell_type": "code",
     "collapsed": false,
     "input": [
      "def build_decoder(shift):\n",
      "    \"\"\"\n",
      "    Returns a dict that can be used to decode an encrypted text. For example, you\n",
      "    could decrypt an encrypted text by calling the following commands\n",
      "    >>>encoder = build_encoder(shift)\n",
      "    >>>encrypted_text = apply_coder(plain_text, encoder)\n",
      "    >>>decrypted_text = apply_coder(plain_text, decoder)\n",
      "    \n",
      "    The cipher is defined by the shift value. Ignores non-letter characters\n",
      "    like punctuation and numbers.\n",
      "\n",
      "    shift: 0 <= int < 27\n",
      "    returns: dict\n",
      "\n",
      "    Example:\n",
      "    >>> build_decoder(3)\n",
      "    {' ': 'x', 'A': 'Y', 'C': ' ', 'B': 'Z', 'E': 'B', 'D': 'A', 'G': 'D',\n",
      "    'F': 'C', 'I': 'F', 'H': 'E', 'K': 'H', 'J': 'G', 'M': 'J', 'L': 'I',\n",
      "    'O': 'L', 'N': 'K', 'Q': 'N', 'P': 'M', 'S': 'P', 'R': 'O', 'U': 'R',\n",
      "    'T': 'Q', 'W': 'T', 'V': 'S', 'Y': 'V', 'X': 'U', 'Z': 'W', 'a': 'y',\n",
      "    'c': ' ', 'b': 'z', 'e': 'b', 'd': 'a', 'g': 'd', 'f': 'c', 'i': 'f',\n",
      "    'h': 'e', 'k': 'h', 'j': 'g', 'm': 'j', 'l': 'i', 'o': 'l', 'n': 'k',\n",
      "    'q': 'n', 'p': 'm', 's': 'p', 'r': 'o', 'u': 'r', 't': 'q', 'w': 't',\n",
      "    'v': 's', 'y': 'v', 'x': 'u', 'z': 'w'}\n",
      "    (The order of the key-value pairs may be different.)\n",
      "\n",
      "    HINT : Use build_coder.\n",
      "    \"\"\"\n",
      "    ### TODO.\n",
      "    return build_coder(-shift)"
     ],
     "language": "python",
     "metadata": {},
     "outputs": [],
     "prompt_number": 8
    },
    {
     "cell_type": "code",
     "collapsed": true,
     "input": [
      "def apply_coder(text, coder):\n",
      "    \"\"\"\n",
      "    Applies the coder to the text. Returns the encoded text.\n",
      "\n",
      "    text: string\n",
      "    coder: dict with mappings of characters to shifted characters\n",
      "    returns: text after mapping coder chars to original text\n",
      "\n",
      "    Example:\n",
      "    >>> apply_coder(\"Hello, world!\", build_encoder(3))\n",
      "    'Khoor,czruog!'\n",
      "    >>> apply_coder(\"Khoor,czruog!\", build_decoder(3))\n",
      "    'Hello, world!'\n",
      "    \"\"\"\n",
      "    ### TODO.\n",
      "    import string\n",
      "    allLetters = ' ' + string.ascii_letters    \n",
      "    ans = []\n",
      "    \n",
      "    for el in text:\n",
      "        if el in allLetters:\n",
      "            ans.append(coder[el])\n",
      "        else:\n",
      "            ans.append(el)\n",
      "    return ''.join(ans)        "
     ],
     "language": "python",
     "metadata": {},
     "outputs": [],
     "prompt_number": 6
    },
    {
     "cell_type": "code",
     "collapsed": false,
     "input": [
      "apply_coder(\"Hello, world!\", build_encoder(3))"
     ],
     "language": "python",
     "metadata": {},
     "outputs": [
      {
       "metadata": {},
       "output_type": "pyout",
       "prompt_number": 24,
       "text": [
        "'Khoor,czruog!'"
       ]
      }
     ],
     "prompt_number": 24
    },
    {
     "cell_type": "code",
     "collapsed": false,
     "input": [
      "def apply_shift(text, shift):\n",
      "    \"\"\"\n",
      "    Given a text, returns a new text Caesar shifted by the given shift\n",
      "    offset. The empty space counts as the 27th letter of the alphabet,\n",
      "    so spaces should be replaced by a lowercase letter as appropriate.\n",
      "    Otherwise, lower case letters should remain lower case, upper case\n",
      "    letters should remain upper case, and all other punctuation should\n",
      "    stay as it is.\n",
      "    \n",
      "    text: string to apply the shift to\n",
      "    shift: amount to shift the text\n",
      "    returns: text after being shifted by specified amount.\n",
      "\n",
      "    Example:\n",
      "    >>> apply_shift('This is a test.', 8)\n",
      "    'Apq hq hiham a.'\n",
      "    \"\"\"\n",
      "    ### TODO.\n",
      "    \n",
      "    if shift >= 0:\n",
      "        return apply_coder(text, build_encoder(shift))\n",
      "    else:\n",
      "        return apply_coder(text, build_decoder(-shift))"
     ],
     "language": "python",
     "metadata": {},
     "outputs": [],
     "prompt_number": 7
    },
    {
     "cell_type": "code",
     "collapsed": false,
     "input": [
      "apply_shift('Wklvclvcdcwhvw.', -3)"
     ],
     "language": "python",
     "metadata": {},
     "outputs": [
      {
       "metadata": {},
       "output_type": "pyout",
       "prompt_number": 30,
       "text": [
        "'This is a test.'"
       ]
      }
     ],
     "prompt_number": 30
    },
    {
     "cell_type": "code",
     "collapsed": false,
     "input": [
      "import string\n",
      "import random\n",
      "\n",
      "WORDLIST_FILENAME = \"words.txt\"\n",
      "\n",
      "# -----------------------------------\n",
      "# Helper code\n",
      "# (you don't need to understand this helper code)\n",
      "def load_words():\n",
      "    \"\"\"\n",
      "    Returns a list of valid words. Words are strings of lowercase letters.\n",
      "    \n",
      "    Depending on the size of the word list, this function may\n",
      "    take a while to finish.\n",
      "    \"\"\"\n",
      "    print \"Loading word list from file...\"\n",
      "    # inFile: file\n",
      "    inFile = open(WORDLIST_FILENAME, 'r', 0)\n",
      "    # line: string\n",
      "    line = inFile.readline()\n",
      "    # wordlist: list of strings\n",
      "    wordlist = line.split()\n",
      "    print \"  \", len(wordlist), \"words loaded.\"\n",
      "    return wordlist\n",
      "\n",
      "wordlist = load_words()"
     ],
     "language": "python",
     "metadata": {},
     "outputs": [
      {
       "output_type": "stream",
       "stream": "stdout",
       "text": [
        "Loading word list from file...\n",
        "  "
       ]
      },
      {
       "output_type": "stream",
       "stream": "stdout",
       "text": [
        " 55909 words loaded.\n"
       ]
      }
     ],
     "prompt_number": 1
    },
    {
     "cell_type": "code",
     "collapsed": false,
     "input": [
      "def is_word(wordlist, word):\n",
      "    \"\"\"\n",
      "    Determines if word is a valid word.\n",
      "\n",
      "    wordlist: list of words in the dictionary.\n",
      "    word: a possible word.\n",
      "    returns True if word is in wordlist.\n",
      "\n",
      "    Example:\n",
      "    >>> is_word(wordlist, 'bat') returns\n",
      "    True\n",
      "    >>> is_word(wordlist, 'asdf') returns\n",
      "    False\n",
      "    \"\"\"\n",
      "    word = word.lower()\n",
      "    word = word.strip(\" !@#$%^&*()-_+={}[]|\\:;'<>?,./\\\"\")\n",
      "    return word in wordlist"
     ],
     "language": "python",
     "metadata": {},
     "outputs": [],
     "prompt_number": 2
    },
    {
     "cell_type": "code",
     "collapsed": false,
     "input": [
      "def find_best_shift(wordlist, text):\n",
      "    \"\"\"\n",
      "    Decrypts the encoded text and returns the plaintext.\n",
      "\n",
      "    text: string\n",
      "    returns: 0 <= int 27\n",
      "\n",
      "    Example:\n",
      "    >>> s = apply_coder('Hello, world!', build_encoder(8))\n",
      "    >>> s\n",
      "    'Pmttw,hdwztl!'\n",
      "    >>> find_best_shift(wordlist, s) returns\n",
      "    8\n",
      "    >>> apply_coder(s, build_decoder(8)) returns\n",
      "    'Hello, world!'\n",
      "    \"\"\"\n",
      "    ### TODO"
     ],
     "language": "python",
     "metadata": {},
     "outputs": []
    },
    {
     "cell_type": "code",
     "collapsed": false,
     "input": [
      "s = apply_coder('Pmttw,hdwztl!', build_decoder(8))"
     ],
     "language": "python",
     "metadata": {},
     "outputs": [],
     "prompt_number": 9
    },
    {
     "cell_type": "code",
     "collapsed": false,
     "input": [
      "a = s.split()"
     ],
     "language": "python",
     "metadata": {},
     "outputs": [],
     "prompt_number": 12
    },
    {
     "cell_type": "code",
     "collapsed": false,
     "input": [
      "for word in a:\n",
      "    if is_word(wordlist, word):\n",
      "        print word\n",
      "    "
     ],
     "language": "python",
     "metadata": {},
     "outputs": [
      {
       "output_type": "stream",
       "stream": "stdout",
       "text": [
        "Hello,\n",
        "world!\n"
       ]
      }
     ],
     "prompt_number": 14
    },
    {
     "cell_type": "code",
     "collapsed": false,
     "input": [],
     "language": "python",
     "metadata": {},
     "outputs": []
    }
   ],
   "metadata": {}
  }
 ]
}